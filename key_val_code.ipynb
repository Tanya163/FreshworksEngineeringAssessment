{
  "nbformat": 4,
  "nbformat_minor": 0,
  "metadata": {
    "colab": {
      "name": "key_val_code.ipynb",
      "provenance": [],
      "authorship_tag": "ABX9TyMbIMtTYA+CD9vIGBM5XDfw",
      "include_colab_link": true
    },
    "kernelspec": {
      "name": "python3",
      "display_name": "Python 3"
    }
  },
  "cells": [
    {
      "cell_type": "markdown",
      "metadata": {
        "id": "view-in-github",
        "colab_type": "text"
      },
      "source": [
        "<a href=\"https://colab.research.google.com/github/Tanya163/FreshworksEngineeringAssessment/blob/main/key_val_code.ipynb\" target=\"_parent\"><img src=\"https://colab.research.google.com/assets/colab-badge.svg\" alt=\"Open In Colab\"/></a>"
      ]
    },
    {
      "cell_type": "code",
      "metadata": {
        "id": "Q8umaOgeoXGU"
      },
      "source": [
        "#Python 3.0 and above is used\r\n",
        "import threading \r\n",
        "from threading import*\r\n",
        "import time\r\n",
        "#To store data,dictionary \"storage\" is used\r\n",
        "storage={} \r\n",
        "\r\n",
        "#For create operation, function \"create(key_name,value,time_to_live)\" is used\r\n",
        "def create(key,value,time_to_live=0): \r\n",
        "    if key in storage:\r\n",
        "        print(\"error: this key already exists\") #print if key is generated already\r\n",
        "    else:\r\n",
        "        if(key.isalpha()):\r\n",
        "            if len(storage)<(1024*1020*1024) and value<=(16*1024*1024): #The file size never exceeds 1GB and The value is always a JSON object - capped at 16KB.\r\n",
        "                if time_to_live==0:\r\n",
        "                    li=[value,time_to_live]\r\n",
        "                else:\r\n",
        "                    li=[value,time.time()+time_to_live]\r\n",
        "                if len(key)<=32: #The key is a string - capped at 32chars\r\n",
        "                    storage[key]=li\r\n",
        "            else:\r\n",
        "                print(\"error: Memory limit exceeded!! \")#print if memory limit exceed\r\n",
        "        else:\r\n",
        "            print(\"error: Invalind key_name!! key_name must contain only alphabets and no special characters or numbers\")#print if the key_name is not alphabetical\r\n",
        "\r\n",
        "#For read operation, function \"read(key_name)\" is used\r\n",
        "def read(key):\r\n",
        "    if key not in storage:\r\n",
        "        print(\"Error: Key does not exist. Please enter a valid key\") #print if key is not created\r\n",
        "    else:\r\n",
        "        val=storage[key]\r\n",
        "        if val[1]!=0:\r\n",
        "            if time.time()<val[1]: #Comparing the current time with expiry time\r\n",
        "                string=str(key)+\":\"+str(val[0]) #Return \"key_name:value\"  in the format of Json Object\r\n",
        "                return string\r\n",
        "            else:\r\n",
        "                print(\"Error: time-to-live of\",key,\"has expired.Key cannot be read.\") #if present time is more than expiry time is expired\r\n",
        "        else:\r\n",
        "            string=str(key)+\":\"+str(b[0])\r\n",
        "            return string\r\n",
        "\r\n",
        "#for delete operation,fuction \"delete(key_name)\" is used\r\n",
        "def delete(key):\r\n",
        "    if key not in d:\r\n",
        "        print(\"Error:Key does not exist. Please enter a valid key\") #print if key is not created\r\n",
        "    else:\r\n",
        "        val=storage[key]\r\n",
        "        if storage[1]!=0:\r\n",
        "            if time.time()<storage[1]: #comparing the current time with expiry time\r\n",
        "                del storage[key]\r\n",
        "                print(\"Key is successfully deleted\")# key is deleted\r\n",
        "            else:\r\n",
        "                print(\"Error: time-to-live of\",key,\"has expired.Cannot delete the key\") #if time is expired\r\n",
        "        else:\r\n",
        "            del storage[key]\r\n",
        "            print(\"key is successfully deleted\")# key is deleted \r\n"
      ],
      "execution_count": 1,
      "outputs": []
    }
  ]
}