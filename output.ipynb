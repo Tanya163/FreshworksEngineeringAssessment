{
  "nbformat": 4,
  "nbformat_minor": 0,
  "metadata": {
    "colab": {
      "name": "output.ipynb",
      "provenance": [],
      "authorship_tag": "ABX9TyPY1rYRpz0/6YWuH1aJUk6U",
      "include_colab_link": true
    },
    "kernelspec": {
      "name": "python3",
      "display_name": "Python 3"
    }
  },
  "cells": [
    {
      "cell_type": "markdown",
      "metadata": {
        "id": "view-in-github",
        "colab_type": "text"
      },
      "source": [
        "<a href=\"https://colab.research.google.com/github/Tanya163/FreshworksEngineeringAssessment/blob/main/output.ipynb\" target=\"_parent\"><img src=\"https://colab.research.google.com/assets/colab-badge.svg\" alt=\"Open In Colab\"/></a>"
      ]
    },
    {
      "cell_type": "code",
      "metadata": {
        "id": "Le-4c27ZEY2E"
      },
      "source": [
        "#Build a file-based key-value data store that supports the basic CRD (create, read, and delete) operations.\r\n",
        "#Run the module of main file and import mainfile as a library(Mainfile = key_val_code.py)\r\n",
        "#importing the main file\r\n",
        "\r\n",
        "import key_val_code as k\r\n",
        "\r\n",
        "#A new key-value pair can be added to the data store using the Create operation\r\n",
        "k.create(\"@99\",20) #Invalind key_name\r\n",
        "\r\n",
        "k.create(\"Tanya\",22) #valid key_name\r\n",
        "\r\n",
        "#key already exists\r\n",
        "k.create(\"Tanya\",23)\r\n",
        "\r\n",
        "#Read operation on a key can be performed by providing the key, and receiving the value in response, as a JSON object\r\n",
        "k.read(\"Tanya\")\r\n",
        "\r\n",
        "#time_to_live in create operation\r\n",
        "c.create(\"Tushar\",24,50)  #expiry time value is 50sec\r\n",
        "\r\n",
        "#after one min\r\n",
        "c.read(\"Tushar\")  #time_to_live has expired\r\n",
        "\r\n",
        "#given key does not exist in database\r\n",
        "c.read(\"Hi\")\r\n",
        "\r\n",
        "# delete operation\r\n",
        "c.delete(\"Tanya\")  #will delete as no expiry time stated before\r\n",
        "\r\n",
        "#delete expired key\r\n",
        "c.delete(\"Tushar\")  #will not delete\r\n",
        "\r\n",
        "#given key does not exist in database\r\n",
        "c.delete(\"ema\")\r\n",
        "\r\n",
        "#after deleting key\r\n",
        "c.read(\"Tanya\")  #cannot access\r\n",
        "\r\n",
        "#we can access these using multiple threads like\r\n",
        "t=Thread(target=(create or read or delete),args=(key_name,value,time_to_live)) \r\n",
        "t.start()\r\n",
        "t.sleep()\r\n",
        "t1=Thread(target=(create or read or delete),args=(key_name,value,time_to_live))\r\n",
        "t1.start()\r\n",
        "t1.sleep()"
      ],
      "execution_count": null,
      "outputs": []
    }
  ]
}